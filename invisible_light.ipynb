{
 "cells": [
  {
   "cell_type": "markdown",
   "id": "2b233f0a",
   "metadata": {},
   "source": [
    "# Invisible Light - plotting a galaxy's colours\n",
    "\n",
    "In this notebook, you will be able to use data from the LOFAR deep fields release to choose a galaxy and plot its _spectral energy distribution_ (SED)- that is, how bright the galaxy is across the electromagnetic spectrum. This data is from a well-studied field called the Lockman Hole, which is a patch of sky located in the constellation of Ursa Major. "
   ]
  },
  {
   "cell_type": "markdown",
   "id": "7e1ccff8",
   "metadata": {},
   "source": [
    "First we will import the Python libraries that we will use in this exercise:\n"
   ]
  },
  {
   "cell_type": "code",
   "execution_count": 3,
   "id": "87f0b43f",
   "metadata": {},
   "outputs": [],
   "source": [
    "from astropy.io import fits              # astropy is a library of helpful tools for astronomy\n",
    "from astropy import units as u           # for example, units helps us keep track of astronomical units in calculations\n",
    "from astropy.coordinates import SkyCoord # ...and SkyCoord can do transformations with astronomical coordinates\n",
    "import matplotlib.pyplot as plt          # matplotlib is library for plotting \n",
    "from scipy.interpolate import interp1d   # scipy has useful maths tools, such as this curve fitting tool\n",
    "import numpy as np                       # numpy is for storing & manipulating data in arrays"
   ]
  },
  {
   "cell_type": "markdown",
   "id": "28f9db6a",
   "metadata": {},
   "source": [
    "Then we will import the data files. All of the data is publicly available on the LOFAR surveys website, but the data files are very large (> 1 GB!) and take a long time to load, so we're using a short version of the table that I put together for my research. In astronomy, data is often stored in a file format called \"fits\" and one way to access it is to use the Astropy libary we imported above, which has a \"fits\" function to open such files.\n"
   ]
  },
  {
   "cell_type": "code",
   "execution_count": 4,
   "id": "4c6fef6b",
   "metadata": {},
   "outputs": [],
   "source": [
    "data_file = fits.open(\"https://star.herts.ac.uk/~joanna/LOFAR_galaxies.fits\")\n",
    "\n",
    "table = data_file[1].data\n",
    "headers = data_file[1].header.keys\n",
    "\n",
    "# Now we have two variables:\n",
    "# - table, which contains all of the table data\n",
    "# - header, which just contains the information in the table header i.e. the names of the columns"
   ]
  },
  {
   "cell_type": "markdown",
   "id": "a985e519",
   "metadata": {},
   "source": [
    "This data file is a table of data, with fluxes at several different wavelengths across the electromagnetic spectrum, from low frequency radio in LOFAR all the way through to optical and UV. If you print the variable \"headers\", you can see the names of all of the columns in the table. Some of these are a bit cryptic! They will be explained later.\n"
   ]
  },
  {
   "cell_type": "code",
   "execution_count": 5,
   "id": "c0667451",
   "metadata": {},
   "outputs": [],
   "source": [
    "# Try printing \"headers\"\n"
   ]
  },
  {
   "cell_type": "markdown",
   "id": "47ba901b",
   "metadata": {},
   "source": [
    "Each row of the table is a different galaxy, and you can find its position on the sky by looking at the right ascension (RA) and declination (Dec) in the table, which are given with the keys 'RA' and 'DEC'.\n",
    "\n",
    "Look up the coordinates of some of the galaxies in the table in [Aladin](https://aladin.u-strasbg.fr/AladinLite/)  - this tool shows sky surveys at multiple wavelengths, so you can see what your galaxy looks like across the spectrum.\n",
    "\n",
    "\n"
   ]
  },
  {
   "cell_type": "code",
   "execution_count": 6,
   "id": "d0790664",
   "metadata": {},
   "outputs": [
    {
     "ename": "SyntaxError",
     "evalue": "invalid syntax (<ipython-input-6-d1b9732d4a05>, line 8)",
     "output_type": "error",
     "traceback": [
      "\u001b[0;36m  File \u001b[0;32m\"<ipython-input-6-d1b9732d4a05>\"\u001b[0;36m, line \u001b[0;32m8\u001b[0m\n\u001b[0;31m    galaxy =\u001b[0m\n\u001b[0m             ^\u001b[0m\n\u001b[0;31mSyntaxError\u001b[0m\u001b[0;31m:\u001b[0m invalid syntax\n"
     ]
    }
   ],
   "source": [
    "# Each row of the table holds the data for a single galaxy, so you want to start by selecting a single row.\n",
    "# Inside each row, you can access the columns as follows: column1 = table[row number][\"name of column 1\"]\n",
    "# but replacing the row number and column names with the correct values. You can find some other column names\n",
    "# in \"header\" in the previous cell.\n",
    "#\n",
    "# Complete the code below to find the RA and Dec of a galaxy in the table:\n",
    "\n",
    "galaxy = \n",
    "\n",
    "\n",
    "RA = \n",
    "Dec = \n",
    "\n",
    "# SkyCoord can translate these coordinates from degrees (their units in the table) to hours minutes and seconds,\n",
    "# if you want to view them like that. Aladin can read several different formats - the one below included:\n",
    "\n",
    "coords = SkyCoord(RA*u.degree, Dec*u.degree)\n",
    "\n",
    "print(f\"Coordinates of galaxy {n}: {coords.ra.hms[0]:0.0f} {coords.ra.hms[1]:0.0f} {coords.ra.hms[2]:0.2f}, \\\n",
    " +{coords.dec.dms[0]:0.0f} {coords.dec.dms[1]:0.0f} {coords.dec.dms[2]:0.2f}\")\n",
    "\n",
    "# The long line of code above is just to nicely format our coordinates\n"
   ]
  },
  {
   "cell_type": "markdown",
   "id": "cd7c0693",
   "metadata": {},
   "source": [
    "Here is a table that shows the different \"bands\" of the observations, the name of the column with the data for that band in the table, the units for the data in that column, and the wavelength that the band corresponds to.\n",
    "\n",
    "\n",
    "<!-- \"ugriz\" is short for U-band, G-band, R-band, I-band, and Z-band, detailed on [the Wikipedia article on photometric systems](https://en.wikipedia.org/wiki/Photometric_system): -->\n",
    "$$\\begin{array}{|c|c|c|}\n",
    "\\hline \\text{Band}                  & \\text{Table key}        & \\text{Units}       & \\text{Wavelength}(\\lambda)\\\\\n",
    "\\hline \\text{u}                     & \\text{'u_flux'}         & \\text{microJy}     & \\text{365 nm}\\\\\n",
    "\\hline \\text{g}                     & \\text{'g_flux'}         & \\text{microJy}     & \\text{475 nm}\\\\\n",
    "\\hline \\text{r}                     & \\text{'r_flux'}         & \\text{microJy}     & \\text{658 nm}\\\\\n",
    "\\hline \\text{i}                     & \\text{'i_rcs_flux'}     & \\text{microJy}     & \\text{806 nm}\\\\\n",
    "\\hline \\text{z}                     & \\text{'z_flux'}         & \\text{microJy}     & \\text{900 nm}\\\\\n",
    "\\hline \\text{J}                     & \\text{'J_flux'}         & \\text{microJy}     & \\text{1.24}\\mu\\text{m} \\\\\n",
    "\\hline \\text{K}                     & \\text{'K_flux'}         & \\text{microJy}     & \\text{2.19}\\mu\\text{m} \\\\\n",
    "\\hline \\text{SWIRE channel 1}       & \\text{'ch1_swire_flux'} & \\text{microJy}     & \\text{3.6}\\mu\\text{m} \\\\\n",
    "\\hline \\text{SWIRE channel 2}       & \\text{'ch2_swire_flux'} & \\text{microJy}     & \\text{4.5}\\mu\\text{m} \\\\\n",
    "\\hline \\text{SWIRE channel 3}       & \\text{'ch3_swire_flux'} & \\text{microJy}     & \\text{5.8}\\mu\\text{m} \\\\\n",
    "\\hline \\text{SWIRE channel 4}       & \\text{'ch4_swire_flux'} & \\text{microJy}     & \\text{8}\\mu\\text{m} \\\\\n",
    "\\hline \\text{Spitzer MIPS}          & \\text{'F_MIPS_24'}      & \\text{microJy}     & \\text{24}\\mu\\text{m} \\\\\n",
    "\\hline \\text{Herschel PACS band 1}  & \\text{'F_PACS_100'}     & \\text{mJy}         & \\text{100}\\mu\\text{m} \\\\\n",
    "\\hline \\text{Herschel PACS band 2}  & \\text{'F_PACS_160'}     & \\text{mJy}         & \\text{160}\\mu\\text{m} \\\\\n",
    "\\hline \\text{Herschel Spire band 1} & \\text{'F_SPIRE_250'}    & \\text{mJy}         & \\text{250}\\mu\\text{m} \\\\\n",
    "\\hline \\text{Herschel Spire band 2} & \\text{'F_SPIRE_350'}    & \\text{mJy}         & \\text{350}\\mu\\text{m} \\\\\n",
    "\\hline \\text{Herschel Spire band 3} & \\text{'F_SPIRE_500'}    & \\text{mJy}         & \\text{500}\\mu\\text{m} \\\\\n",
    "\\hline\n",
    "\\end{array}$$\n",
    "\n",
    "\\*note that the last few rows are measured in frequency, not wavelength! This is standard in radio astronomy, and since we are combining data from a number of different sources, we have to deal with this and convert everything into either wavelength or frequency."
   ]
  },
  {
   "cell_type": "code",
   "execution_count": 6,
   "id": "ebfe645c",
   "metadata": {},
   "outputs": [
    {
     "name": "stdout",
     "output_type": "stream",
     "text": [
      "[1.10175743e-02 3.99869804e-02 8.09568558e-02 1.23137360e-01\n",
      " 1.50371277e-01 2.02071518e-01 2.83271027e-01 1.85291275e-01\n",
      " 1.53527374e-01 1.15399406e-01 5.45556763e-01 1.23479102e+00\n",
      " 3.15706501e+01 4.44620781e+01 3.49040565e+01 1.60100842e+01\n",
      " 7.89891529e+00]\n",
      "[11.017574, 39.98698, 80.956856, 123.13736, 150.37128, 202.07152, 283.27103, 185.29128, 153.52737, 115.39941, 545.55676, 1234.791, 31.57065, 44.46208, 34.904057, 16.010084, 7.8989153]\n"
     ]
    }
   ],
   "source": [
    "#~~~~~~~~~~~~~~~~~~~~~~~~\n",
    "# From the information in the table above, make a list of fluxes from the table:\n",
    "#~~~~~~~~~~~~~~~~~~~~~~~~\n",
    "fluxes = []\n",
    "\n",
    "#~~~~~~~~~~~~~~~~~~~~~~~~\n",
    "# Remember the units! Not all of the fluxes are in the same units. Can you correct for that with some code?\n",
    "#~~~~~~~~~~~~~~~~~~~~~~~~\n",
    "\n",
    "\n",
    "#~~~~~~~~~~~~~~~~~~~~~~~~\n",
    "# You will also need a list of wavelengths at which these fluxes are measured:\n",
    "#~~~~~~~~~~~~~~~~~~~~~~~~\n",
    "wavelengths = []\n",
    "\n",
    "\n",
    "\n"
   ]
  },
  {
   "cell_type": "markdown",
   "id": "3f161b0b",
   "metadata": {},
   "source": [
    "Now plot the SED: wavelength on the x-axis, and flux on the y-axis. You might find it helpful to plot it on a log scale. Can you plot or fit a line between the points to show the shape of the SED more clearly?"
   ]
  },
  {
   "cell_type": "code",
   "execution_count": 7,
   "id": "bf9742b2",
   "metadata": {},
   "outputs": [
    {
     "data": {
      "image/png": "[encoded data removed]",
      "text/plain": [
       "<Figure size 432x288 with 1 Axes>"
      ]
     },
     "metadata": {
      "needs_background": "light"
     },
     "output_type": "display_data"
    }
   ],
   "source": [
    "#~~~~~~~~~~~~~~~~~~~~~~~~\n",
    "# Write the code to plot the SED in this box. You can use matplotlib.\n",
    "#~~~~~~~~~~~~~~~~~~~~~~~~\n",
    "\n",
    "\n",
    "\n",
    "#~~~~~~~~~~~~~~~~~~~~~~~~\n",
    "\n",
    "plt.show()\n"
   ]
  },
  {
   "cell_type": "markdown",
   "id": "cb461c3c",
   "metadata": {},
   "source": [
    "Compare the shape of the SED of this galaxy to some typical SEDs of different types of galaxies below. What type of galaxy do you think this is? Are there any other ways we could confirm that?\n",
    "\n",
    "![text](typical_SEDs.jpg)"
   ]
  }
 ],
 "metadata": {
  "kernelspec": {
   "display_name": "Python 3",
   "language": "python",
   "name": "python3"
  },
  "language_info": {
   "codemirror_mode": {
    "name": "ipython",
    "version": 3
   },
   "file_extension": ".py",
   "mimetype": "text/x-python",
   "name": "python",
   "nbconvert_exporter": "python",
   "pygments_lexer": "ipython3",
   "version": "3.9.4"
  }
 },
 "nbformat": 4,
 "nbformat_minor": 5
}
