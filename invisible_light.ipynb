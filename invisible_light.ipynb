{
 "cells": [
  {
   "cell_type": "markdown",
   "id": "2b233f0a",
   "metadata": {},
   "source": [
    "# Invisible Light - plotting a galaxy's colours\n",
    "\n",
    "In this notebook, you will be able to use data from the LOFAR deep fields release to choose a galaxy and plot its _spectral energy distribution_ (SED)- that is, how bright the galaxy is across the electromagnetic spectrum. This data is from a well-studied field called the Lockman Hole, which is a patch of sky located in the constellation of Ursa Major. "
   ]
  },
  {
   "cell_type": "markdown",
   "id": "7e1ccff8",
   "metadata": {},
   "source": [
    "First we will import the Python libraries that we will use in this exercise:\n"
   ]
  },
  {
   "cell_type": "code",
   "execution_count": 1,
   "id": "87f0b43f",
   "metadata": {},
   "outputs": [],
   "source": [
    "from astropy.io import fits\n",
    "import matplotlib.pyplot as plt"
   ]
  },
  {
   "cell_type": "markdown",
   "id": "28f9db6a",
   "metadata": {},
   "source": [
    "Then we will import the data files. All of the data is publicly available on the LOFAR surveys website, but the data files are very large (> 1 GB!) so I'm using a short version of the table that I put together for my research:\n"
   ]
  },
  {
   "cell_type": "code",
   "execution_count": 2,
   "id": "4c6fef6b",
   "metadata": {},
   "outputs": [],
   "source": [
    "# image = fits.open(\"https://www.lofar-surveys.org/public/deepfields/data_release/lockman/lockman_radio_image.fits\")[0].data\n",
    "\n",
    "data_file = fits.open(\"https://star.herts.ac.uk/~joanna/master_table.fits\")\n",
    "table = data_file[1].data\n",
    "headers = data_file[1].header"
   ]
  },
  {
   "cell_type": "markdown",
   "id": "a985e519",
   "metadata": {},
   "source": [
    "This data file is a table of data, with fluxes at lots of different wavelengths across the electromagnetic spectrum, from low frequency radio in LOFAR all the way through to optical and UV.\n"
   ]
  },
  {
   "cell_type": "markdown",
   "id": "47ba901b",
   "metadata": {},
   "source": [
    "Each row of the table is a different galaxy, and you can find its position on the sky by looking at the right ascension (RA) and declination (Dec) in the table, which are given with the keys 'RA_1' and 'Dec_1':\n",
    "\n",
    "\n"
   ]
  },
  {
   "cell_type": "code",
   "execution_count": 21,
   "id": "d0790664",
   "metadata": {},
   "outputs": [
    {
     "name": "stdout",
     "output_type": "stream",
     "text": [
      "Coordinates of galaxy 6: 161.480, 59.258\n"
     ]
    }
   ],
   "source": [
    "n = 6\n",
    "print(f\"Coordinates of galaxy {n}: {table[n-1]['RA_1']:0.03f}, {table[n-1]['Dec_1']:0.03f}\")"
   ]
  },
  {
   "cell_type": "markdown",
   "id": "cd7c0693",
   "metadata": {},
   "source": [
    "<!-- \"ugriz\" is short for U-band, G-band, R-band, I-band, and Z-band, detailed on [the Wikipedia article on photometric systems](https://en.wikipedia.org/wiki/Photometric_system): -->\n",
    "$$\\begin{array}{|c|c|c|}\n",
    "\\hline \\text{Band}& \\text{Table key} & \\text{Wavelength}(\\lambda)\\\\\n",
    "\\hline \\text{u}   & \\text{'u_flux'}        & \\text{365 nm}\\\\\n",
    "\\hline \\text{g}   & \\text{'g_flux'}        & \\text{475 nm}\\\\\n",
    "\\hline \\text{r}   & \\text{'r_flux'}        &  \\text{658 nm}\\\\\n",
    "\\hline \\text{i}   & \\text{'i_rcs_flux'}        &  \\text{806 nm}\\\\\n",
    "\\hline \\text{z}   & \\text{'z_flux'}        &  \\text{900 nm}\\\\\n",
    "\\hline\n",
    "\\end{array}$$"
   ]
  },
  {
   "cell_type": "code",
   "execution_count": 13,
   "id": "c6e4024e",
   "metadata": {},
   "outputs": [
    {
     "name": "stdout",
     "output_type": "stream",
     "text": [
      "-0.30688596\n"
     ]
    }
   ],
   "source": [
    "galaxy = table[n-1]\n",
    "print(galaxy['z_flux'])\n"
   ]
  },
  {
   "cell_type": "code",
   "execution_count": null,
   "id": "ebfe645c",
   "metadata": {},
   "outputs": [],
   "source": []
  },
  {
   "cell_type": "code",
   "execution_count": null,
   "id": "25a17e72",
   "metadata": {},
   "outputs": [],
   "source": []
  },
  {
   "cell_type": "code",
   "execution_count": null,
   "id": "1a3e9b23",
   "metadata": {},
   "outputs": [],
   "source": []
  },
  {
   "cell_type": "code",
   "execution_count": null,
   "id": "10f8d8e7",
   "metadata": {},
   "outputs": [],
   "source": []
  }
 ],
 "metadata": {
  "kernelspec": {
   "display_name": "Python 3",
   "language": "python",
   "name": "python3"
  },
  "language_info": {
   "codemirror_mode": {
    "name": "ipython",
    "version": 3
   },
   "file_extension": ".py",
   "mimetype": "text/x-python",
   "name": "python",
   "nbconvert_exporter": "python",
   "pygments_lexer": "ipython3",
   "version": "3.9.4"
  }
 },
 "nbformat": 4,
 "nbformat_minor": 5
}
